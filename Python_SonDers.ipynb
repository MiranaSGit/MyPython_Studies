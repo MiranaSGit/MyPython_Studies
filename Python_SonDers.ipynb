{
 "metadata": {
  "language_info": {
   "codemirror_mode": {
    "name": "ipython",
    "version": 3
   },
   "file_extension": ".py",
   "mimetype": "text/x-python",
   "name": "python",
   "nbconvert_exporter": "python",
   "pygments_lexer": "ipython3",
   "version": "3.9.5"
  },
  "orig_nbformat": 2,
  "kernelspec": {
   "name": "python395jvsc74a57bd0ac59ebe37160ed0dfa835113d9b8498d9f09ceb179beaac4002f036b9467c963",
   "display_name": "Python 3.9.5 64-bit"
  },
  "metadata": {
   "interpreter": {
    "hash": "ac59ebe37160ed0dfa835113d9b8498d9f09ceb179beaac4002f036b9467c963"
   }
  }
 },
 "nbformat": 4,
 "nbformat_minor": 2,
 "cells": [
  {
   "cell_type": "code",
   "execution_count": null,
   "metadata": {},
   "outputs": [],
   "source": [
    "x = [([1], [2, 3], [4,5,6])]\n",
    "\n",
    "a = []\n",
    "for i in x:\n",
    "    for j in i:\n",
    "        for z in j:\n",
    "            a.append(z)\n",
    "print(a)\n",
    "\n",
    "print({z for i in x for j in i for z in j})"
   ]
  },
  {
   "cell_type": "code",
   "execution_count": null,
   "metadata": {},
   "outputs": [],
   "source": [
    "yList = \"selvi vahit ayşe\".split()\n",
    "print(yList)\n",
    "\n",
    "xList = \"elma armut muz\".split()\n",
    "print(xList)\n",
    "\n",
    "result = []\n",
    "\n",
    "for i in xList:\n",
    "    for j in yList:\n",
    "        result.append(i + j)\n",
    "\n",
    "print([i + j for i in xList for j in yList])\n",
    "print([[i + j] for i in xList for j in yList])\n",
    "\n",
    "print(result)"
   ]
  },
  {
   "cell_type": "code",
   "execution_count": null,
   "metadata": {},
   "outputs": [],
   "source": [
    "result = []\n",
    "\n",
    "for i in range(5):\n",
    "    if i%2==0:\n",
    "        for j in [\"bir\", \"iki\", \"üç\"] :\n",
    "            result.append(str(i) + \"-->\" + j)\n",
    "\n",
    "print([str(i) + \"-->\" + j for i in range(5) for j in [\"bir\", \"iki\", \"üç\"] if i%2==0])\n",
    "print(result)"
   ]
  },
  {
   "cell_type": "code",
   "execution_count": null,
   "metadata": {},
   "outputs": [],
   "source": [
    "def equal(*a) :\n",
    "    numbers = list(a)\n",
    "    result = numbers.count(max(numbers, key = numbers.count))\n",
    "    if result > 1 :\n",
    "        return result\n",
    "    else :\n",
    "        return 0\n",
    "print(equal(5, 3, 3))\n",
    "print(equal(3, 3, 3, 2))\n",
    "print(equal(1, 2, 3, 4))"
   ]
  },
  {
   "cell_type": "code",
   "execution_count": null,
   "metadata": {},
   "outputs": [],
   "source": [
    "import csv\n",
    "cd WorkingWithFiles/\n"
   ]
  },
  {
   "cell_type": "code",
   "execution_count": null,
   "metadata": {},
   "outputs": [],
   "source": [
    "with open(\"fruits.csv\", \"r\", newline='') as f:\n",
    "    csv_rows = csv.reader(f, delimiter = \",\")\n",
    "\n",
    "    for row in csv_rows:\n",
    "        print(row)"
   ]
  },
  {
   "cell_type": "code",
   "execution_count": null,
   "metadata": {},
   "outputs": [],
   "source": [
    "import pandas as pd\n",
    "\n",
    "titanic = pd.read_csv(\"titanic.csv\")\n",
    "\n",
    "print(titanic)\n",
    "print(titanic[titanic[\"Survived\"] == 0])\n",
    "\n",
    "\n",
    "females= titanic[titanic[\"Sex\"] == \"female\"]\n",
    "females.to_csv(\"titanic_females.csv\")\n",
    "\n",
    "dead_ones= titanic[titanic[\"Survived\"] == 0]\n",
    "dead_ones.to_csv(\"dead_in_titanic.csv\")\n",
    "\n"
   ]
  },
  {
   "cell_type": "code",
   "execution_count": null,
   "metadata": {},
   "outputs": [],
   "source": [
    "f1 = pd.read_csv(\"dead_in_titanic.csv\", index_col=0)\n",
    "print(f1)"
   ]
  },
  {
   "cell_type": "code",
   "execution_count": 24,
   "metadata": {},
   "outputs": [
    {
     "output_type": "stream",
     "name": "stdout",
     "text": [
      "[0, -10]\n"
     ]
    }
   ],
   "source": [
    "L = [\"right 20\", \"right 30\", \"left 50\", \"up 10\", \"down 20\"]\n",
    "\n",
    "x = y = 0\n",
    "for i in range(len(L)):\n",
    "    if L[i].startswith(\"r\"): x = x + int(L[i].split()[1])\n",
    "    elif L[i].startswith(\"l\"): x = x - int(L[i].split()[1])\n",
    "    elif L[i].startswith(\"u\"): y = y + int(L[i].split()[1])\n",
    "    elif L[i].startswith(\"d\"): y = y - int(L[i].split()[1])\n",
    "print([x, y])"
   ]
  },
  {
   "cell_type": "code",
   "execution_count": 26,
   "metadata": {},
   "outputs": [
    {
     "output_type": "stream",
     "name": "stdout",
     "text": [
      "True\n"
     ]
    }
   ],
   "source": [
    "print(\"ahttps://www.google.com\".startswith((\"http://\", \"https://\", \"ahttp\")))"
   ]
  },
  {
   "cell_type": "code",
   "execution_count": 28,
   "metadata": {},
   "outputs": [
    {
     "output_type": "stream",
     "name": "stdout",
     "text": [
      "False\n"
     ]
    }
   ],
   "source": [
    "print(\"http://www.google.co.uk\".endswith((\".com\", \".co\")))"
   ]
  },
  {
   "cell_type": "code",
   "execution_count": 31,
   "metadata": {},
   "outputs": [
    {
     "output_type": "stream",
     "name": "stdout",
     "text": [
      "8\n3\n2.0\n"
     ]
    }
   ],
   "source": [
    "ops = {\"+\" : (lambda x,y : x + y),\n",
    "        \"-\" : (lambda x,y : x - y),\n",
    "        \"/\" : (lambda x,y : x / y)\n",
    "}\n",
    "\n",
    "print(ops[\"+\"](3, 5))\n",
    "print(ops[\"-\"](8, 5))\n",
    "print(ops[\"/\"](8, 4))"
   ]
  },
  {
   "cell_type": "code",
   "execution_count": null,
   "metadata": {},
   "outputs": [],
   "source": []
  }
 ]
}