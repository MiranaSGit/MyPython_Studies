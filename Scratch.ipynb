{
 "metadata": {
  "language_info": {
   "codemirror_mode": {
    "name": "ipython",
    "version": 3
   },
   "file_extension": ".py",
   "mimetype": "text/x-python",
   "name": "python",
   "nbconvert_exporter": "python",
   "pygments_lexer": "ipython3",
   "version": "3.8.5"
  },
  "orig_nbformat": 2,
  "kernelspec": {
   "name": "python385jvsc74a57bd0b19acfb47c858a3e6f75be8d3b1e86a4ece7138c7e919bc0d6ec4b14dfa8c7cf",
   "display_name": "Python 3.8.5 64-bit (conda)"
  }
 },
 "nbformat": 4,
 "nbformat_minor": 2,
 "cells": [
  {
   "cell_type": "code",
   "execution_count": 12,
   "metadata": {
    "tags": []
   },
   "outputs": [
    {
     "output_type": "stream",
     "name": "stdout",
     "text": [
      "sum : 1\n2\n"
     ]
    }
   ],
   "source": [
    "list = [6, 5, 8, 9, 2, 4, 3, 6]\n",
    "index_first = 0\n",
    "index_last = 0\n",
    "sum = 0\n",
    "while index_first < len(list):\n",
    "    if list[index_first] > list[index_first + 1]:\n",
    "        for j in list[index_first + 1:]:\n",
    "            if list[index_first] <= j:\n",
    "                index_last = list.index(j)\n",
    "                # print(\"index_last in second if: \", index_last)\n",
    "                break\n",
    "        while index_first < index_last -1:\n",
    "            # print(list[index_first])\n",
    "            sum = (list[index_first] - list[index_first + 1])\n",
    "            print(\"sum :\", sum)\n",
    "            index_first += 1\n",
    "        index_first = index_last\n",
    "        #print(index_first)\n",
    "    else:\n",
    "        index_first += 1\n",
    "        print(\"index_first in else: \", index_first)\n",
    "        break\n",
    "    "
   ]
  }
 ]
}