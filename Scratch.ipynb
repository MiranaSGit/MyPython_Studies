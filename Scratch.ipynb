{
 "metadata": {
  "language_info": {
   "codemirror_mode": {
    "name": "ipython",
    "version": 3
   },
   "file_extension": ".py",
   "mimetype": "text/x-python",
   "name": "python",
   "nbconvert_exporter": "python",
   "pygments_lexer": "ipython3",
   "version": "3.8.5"
  },
  "orig_nbformat": 2,
  "kernelspec": {
   "name": "python385jvsc74a57bd0b19acfb47c858a3e6f75be8d3b1e86a4ece7138c7e919bc0d6ec4b14dfa8c7cf",
   "display_name": "Python 3.8.5 64-bit (conda)"
  }
 },
 "nbformat": 4,
 "nbformat_minor": 2,
 "cells": [
  {
   "source": [
    "list = [6, 5, 8, 9, 2, 4, 3, 6]\n",
    "index_first = 0\n",
    "index_last = 0\n",
    "sum = 0\n",
    "while index_first < len(list):\n",
    "    if list[index_first] > list[index_first + 1]:\n",
    "        for j in list[index_first + 1:]:\n",
    "            if list[index_first] <= j:\n",
    "                index_last = list.index(j)\n",
    "                # print(\"index_last in second if: \", index_last)\n",
    "                break\n",
    "        while index_first < index_last -1:\n",
    "            # print(list[index_first])\n",
    "            sum = (list[index_first] - list[index_first + 1])\n",
    "            print(\"sum :\", sum)\n",
    "            index_first += 1\n",
    "        index_first = index_last\n",
    "        #print(index_first)\n",
    "    else:\n",
    "        index_first += 1\n",
    "        print(\"index_first in else: \", index_first)\n",
    "        break\n",
    "    "
   ],
   "cell_type": "code",
   "metadata": {
    "tags": []
   },
   "execution_count": null,
   "outputs": []
  },
  {
   "cell_type": "code",
   "execution_count": 1,
   "metadata": {},
   "outputs": [
    {
     "output_type": "error",
     "ename": "ValueError",
     "evalue": "invalid literal for int() with base 10: ''",
     "traceback": [
      "\u001b[1;31m---------------------------------------------------------------------------\u001b[0m",
      "\u001b[1;31mValueError\u001b[0m                                Traceback (most recent call last)",
      "\u001b[1;32m<ipython-input-1-53c1704c36cd>\u001b[0m in \u001b[0;36m<module>\u001b[1;34m\u001b[0m\n\u001b[0;32m      3\u001b[0m     \u001b[0mnum\u001b[0m \u001b[1;33m=\u001b[0m \u001b[0minput\u001b[0m\u001b[1;33m(\u001b[0m\u001b[1;34m\"Type 'ok' when you are done: \"\u001b[0m\u001b[1;33m)\u001b[0m\u001b[1;33m\u001b[0m\u001b[1;33m\u001b[0m\u001b[0m\n\u001b[0;32m      4\u001b[0m     \u001b[1;32mif\u001b[0m \u001b[0mnum\u001b[0m \u001b[1;33m!=\u001b[0m \u001b[1;34m\"ok\"\u001b[0m\u001b[1;33m:\u001b[0m\u001b[1;33m\u001b[0m\u001b[1;33m\u001b[0m\u001b[0m\n\u001b[1;32m----> 5\u001b[1;33m         \u001b[0mheight\u001b[0m\u001b[1;33m.\u001b[0m\u001b[0mappend\u001b[0m\u001b[1;33m(\u001b[0m\u001b[0mint\u001b[0m\u001b[1;33m(\u001b[0m\u001b[0mnum\u001b[0m\u001b[1;33m)\u001b[0m\u001b[1;33m)\u001b[0m\u001b[1;33m\u001b[0m\u001b[1;33m\u001b[0m\u001b[0m\n\u001b[0m\u001b[0;32m      6\u001b[0m     \u001b[1;32melse\u001b[0m\u001b[1;33m:\u001b[0m\u001b[1;33m\u001b[0m\u001b[1;33m\u001b[0m\u001b[0m\n\u001b[0;32m      7\u001b[0m         \u001b[1;32mbreak\u001b[0m\u001b[1;33m\u001b[0m\u001b[1;33m\u001b[0m\u001b[0m\n",
      "\u001b[1;31mValueError\u001b[0m: invalid literal for int() with base 10: ''"
     ]
    }
   ],
   "source": [
    "height = []\n",
    "while True:\n",
    "    num = input(\"Type 'ok' when you are done: \")\n",
    "    if num != \"ok\":\n",
    "        height.append(int(num))\n",
    "    else:\n",
    "        break\n",
    "areas = 0\n",
    "max_l = max_r = 0\n",
    "l = 0\n",
    "r = len(height)-1\n",
    "while l < r:\n",
    "    if height[l] < height[r]:\n",
    "        if height[l] > max_l:\n",
    "            max_l = height[l]\n",
    "        else:\n",
    "            areas += max_l - height[l]\n",
    "        l += 1\n",
    "    else:\n",
    "        if height[r] > max_r:\n",
    "            max_r = height[r]\n",
    "        else:\n",
    "            areas += max_r - height[r]\n",
    "        r -= 1\n",
    "print(\"\\nRain-trapped area : \", areas)"
   ]
  },
  {
   "cell_type": "code",
   "execution_count": null,
   "metadata": {},
   "outputs": [],
   "source": []
  }
 ]
}