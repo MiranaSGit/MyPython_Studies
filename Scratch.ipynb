{
 "metadata": {
  "language_info": {
   "codemirror_mode": {
    "name": "ipython",
    "version": 3
   },
   "file_extension": ".py",
   "mimetype": "text/x-python",
   "name": "python",
   "nbconvert_exporter": "python",
   "pygments_lexer": "ipython3",
   "version": "3.8.5"
  },
  "orig_nbformat": 2,
  "kernelspec": {
   "name": "python385jvsc74a57bd0b19acfb47c858a3e6f75be8d3b1e86a4ece7138c7e919bc0d6ec4b14dfa8c7cf",
   "display_name": "Python 3.8.5 64-bit (conda)"
  }
 },
 "nbformat": 4,
 "nbformat_minor": 2,
 "cells": [
  {
   "cell_type": "code",
   "execution_count": 1,
   "metadata": {},
   "outputs": [
    {
     "output_type": "stream",
     "name": "stdout",
     "text": [
      "[1, 1, 2, 3, 5, 8, 13, 21, 34, 55]\n"
     ]
    }
   ],
   "source": [
    "x = [1,1]\n",
    "for i in range(1, 9):\n",
    "    y = x[i-1]+x[i]\n",
    "    x.append(y)\n",
    "print(x)"
   ]
  },
  {
   "cell_type": "code",
   "execution_count": 7,
   "metadata": {},
   "outputs": [
    {
     "output_type": "execute_result",
     "data": {
      "text/plain": [
       "['e', 'i', 'o']"
      ]
     },
     "metadata": {},
     "execution_count": 7
    }
   ],
   "source": [
    "def myFunc(a):\n",
    "    list = [\"a\", \"e\", \"ı\", \"i\", \"o\", \"ö\", \"u\",\"ü\"]\n",
    "    result =[]\n",
    "    for i in a:\n",
    "        if i in list:\n",
    "            if i in result:\n",
    "                pass\n",
    "            else:\n",
    "                result.append(i)\n",
    "    return result\n",
    "myFunc(\"benim olroho\")"
   ]
  },
  {
   "cell_type": "code",
   "execution_count": null,
   "metadata": {},
   "outputs": [],
   "source": []
  }
 ]
}