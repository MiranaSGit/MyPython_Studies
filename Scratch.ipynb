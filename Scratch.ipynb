{
 "metadata": {
  "language_info": {
   "codemirror_mode": {
    "name": "ipython",
    "version": 3
   },
   "file_extension": ".py",
   "mimetype": "text/x-python",
   "name": "python",
   "nbconvert_exporter": "python",
   "pygments_lexer": "ipython3",
   "version": "3.8.5"
  },
  "orig_nbformat": 2,
  "kernelspec": {
   "name": "python385jvsc74a57bd0b19acfb47c858a3e6f75be8d3b1e86a4ece7138c7e919bc0d6ec4b14dfa8c7cf",
   "display_name": "Python 3.8.5 64-bit (conda)"
  }
 },
 "nbformat": 4,
 "nbformat_minor": 2,
 "cells": [
  {
   "cell_type": "code",
   "execution_count": 6,
   "metadata": {},
   "outputs": [
    {
     "output_type": "execute_result",
     "data": {
      "text/plain": [
       "False"
      ]
     },
     "metadata": {},
     "execution_count": 6
    }
   ],
   "source": [
    "def prime(num):\n",
    "    myList = []\n",
    "    count = 0\n",
    "    i = 1\n",
    "    while i <= num:\n",
    "        if num % i:\n",
    "            i += 1\n",
    "        else:\n",
    "            count += 1\n",
    "            i +=1\n",
    "    if count == 2:\n",
    "        return True\n",
    "    else:\n",
    "        return False\n",
    "prime(6)\n"
   ]
  },
  {
   "cell_type": "code",
   "execution_count": 2,
   "metadata": {
    "tags": []
   },
   "outputs": [
    {
     "output_type": "execute_result",
     "data": {
      "text/plain": [
       "[2,\n",
       " 3,\n",
       " 2,\n",
       " 3,\n",
       " 4,\n",
       " 4,\n",
       " 5,\n",
       " 2,\n",
       " 3,\n",
       " 4,\n",
       " 5,\n",
       " 6,\n",
       " 3,\n",
       " 5,\n",
       " 6,\n",
       " 7,\n",
       " 2,\n",
       " 4,\n",
       " 5,\n",
       " 6,\n",
       " 7,\n",
       " 8,\n",
       " 3,\n",
       " 4,\n",
       " 6,\n",
       " 7,\n",
       " 8,\n",
       " 9]"
      ]
     },
     "metadata": {},
     "execution_count": 2
    }
   ],
   "source": [
    "def prime(num):\n",
    "    myList = []\n",
    "    count1 = 0\n",
    "    count2 = 0\n",
    "    i = 1\n",
    "    while i <= num:\n",
    "        if num % i:\n",
    "            j = 1\n",
    "            count2 = 0\n",
    "            while j <= i:\n",
    "                if i % j:\n",
    "                    myList.append(j)\n",
    "                    j += 1\n",
    "                else:\n",
    "                    count2 += 1\n",
    "                    j += 1\n",
    "            i +=1\n",
    "        else:\n",
    "            count1 += 1\n",
    "            i +=1\n",
    "    if count1 == 2:\n",
    "        return myList\n",
    "    else:\n",
    "        num -= 1\n",
    "        prime(num)\n",
    "prime(11)"
   ]
  }
 ]
}