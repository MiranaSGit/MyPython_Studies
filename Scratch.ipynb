{
 "metadata": {
  "language_info": {
   "codemirror_mode": {
    "name": "ipython",
    "version": 3
   },
   "file_extension": ".py",
   "mimetype": "text/x-python",
   "name": "python",
   "nbconvert_exporter": "python",
   "pygments_lexer": "ipython3",
   "version": "3.9.5"
  },
  "orig_nbformat": 2,
  "kernelspec": {
   "name": "python395jvsc74a57bd0ac59ebe37160ed0dfa835113d9b8498d9f09ceb179beaac4002f036b9467c963",
   "display_name": "Python 3.9.5 64-bit"
  },
  "metadata": {
   "interpreter": {
    "hash": "ac59ebe37160ed0dfa835113d9b8498d9f09ceb179beaac4002f036b9467c963"
   }
  }
 },
 "nbformat": 4,
 "nbformat_minor": 2,
 "cells": [
  {
   "cell_type": "code",
   "execution_count": 12,
   "metadata": {
    "tags": []
   },
   "outputs": [
    {
     "output_type": "stream",
     "name": "stdout",
     "text": [
      "Asaba ==> 10121\n"
     ]
    }
   ],
   "source": [
    "def convert(st): \n",
    "    if st == \"\":\n",
    "        return 0\n",
    "    elif len(st) == 1:\n",
    "        return st\n",
    "    else:\n",
    "        list = []\n",
    "        for i in st.upper():\n",
    "            if i not in list:\n",
    "                list.append(i)\n",
    "        myDict = {j: i for i, j in enumerate(list[2:], 2)}\n",
    "        myDict[st[0].upper()] = 1\n",
    "        myDict[st[1].upper()] = 0\n",
    "        return int(\"\".join([str(i) for i in [myDict[i] for i in st.upper()]]))\n",
    "\n",
    "\n",
    "convert(\"Asaba\")\n",
    "\n",
    "\n"
   ]
  },
  {
   "cell_type": "code",
   "execution_count": 15,
   "metadata": {},
   "outputs": [
    {
     "output_type": "execute_result",
     "data": {
      "text/plain": [
       "26"
      ]
     },
     "metadata": {},
     "execution_count": 15
    }
   ],
   "source": [
    "myList_lower = list('abcdefghijklmnopqrstuvwxyz')\n",
    "myList = myList_lower + list(str('abcdefghijklmnopqrstuvwxyz').upper())\n",
    "myList.index(\"A\")"
   ]
  },
  {
   "cell_type": "code",
   "execution_count": 13,
   "metadata": {},
   "outputs": [
    {
     "output_type": "stream",
     "name": "stdout",
     "text": [
      "1\n"
     ]
    }
   ],
   "source": [
    "a = \"1\"\n",
    "print(len(a))\n"
   ]
  },
  {
   "cell_type": "code",
   "execution_count": null,
   "metadata": {},
   "outputs": [],
   "source": []
  }
 ]
}