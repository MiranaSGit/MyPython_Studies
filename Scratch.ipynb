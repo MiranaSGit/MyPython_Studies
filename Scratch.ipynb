{
 "metadata": {
  "language_info": {
   "codemirror_mode": {
    "name": "ipython",
    "version": 3
   },
   "file_extension": ".py",
   "mimetype": "text/x-python",
   "name": "python",
   "nbconvert_exporter": "python",
   "pygments_lexer": "ipython3",
   "version": "3.8.5"
  },
  "orig_nbformat": 2,
  "kernelspec": {
   "name": "python385jvsc74a57bd0b19acfb47c858a3e6f75be8d3b1e86a4ece7138c7e919bc0d6ec4b14dfa8c7cf",
   "display_name": "Python 3.8.5 64-bit (conda)"
  }
 },
 "nbformat": 4,
 "nbformat_minor": 2,
 "cells": [
  {
   "cell_type": "code",
   "execution_count": null,
   "metadata": {},
   "outputs": [],
   "source": [
    "num2 = int(input(\"enter a number\"))\n",
    "counter = 2\n",
    "while num2 > counter:\n",
    "    if num2 % counter == 0:\n",
    "        print(f\"{num2} is not a prime number.\")\n",
    "        break\n",
    "    else:\n",
    "        counter += 1\n",
    "print(counter)\n",
    "# print(f\"{num2}  is a prime number.\")"
   ]
  },
  {
   "cell_type": "code",
   "execution_count": null,
   "metadata": {},
   "outputs": [],
   "source": []
  }
 ]
}