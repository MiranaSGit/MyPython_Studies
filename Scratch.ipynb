{
 "metadata": {
  "language_info": {
   "codemirror_mode": {
    "name": "ipython",
    "version": 3
   },
   "file_extension": ".py",
   "mimetype": "text/x-python",
   "name": "python",
   "nbconvert_exporter": "python",
   "pygments_lexer": "ipython3",
   "version": "3.9.5"
  },
  "orig_nbformat": 2,
  "kernelspec": {
   "name": "python395jvsc74a57bd0ac59ebe37160ed0dfa835113d9b8498d9f09ceb179beaac4002f036b9467c963",
   "display_name": "Python 3.9.5 64-bit"
  },
  "metadata": {
   "interpreter": {
    "hash": "ac59ebe37160ed0dfa835113d9b8498d9f09ceb179beaac4002f036b9467c963"
   }
  }
 },
 "nbformat": 4,
 "nbformat_minor": 2,
 "cells": [
  {
   "cell_type": "code",
   "execution_count": 2,
   "metadata": {
    "tags": []
   },
   "outputs": [
    {
     "output_type": "error",
     "ename": "IndentationError",
     "evalue": "expected an indented block (<ipython-input-2-67b6d710bcd1>, line 17)",
     "traceback": [
      "\u001b[1;36m  File \u001b[1;32m\"<ipython-input-2-67b6d710bcd1>\"\u001b[1;36m, line \u001b[1;32m17\u001b[0m\n\u001b[1;33m    splitter(\"857547.304\")\u001b[0m\n\u001b[1;37m                          ^\u001b[0m\n\u001b[1;31mIndentationError\u001b[0m\u001b[1;31m:\u001b[0m expected an indented block\n"
     ]
    }
   ],
   "source": [
    "def splitter(num):\n",
    "    res = \"\"\n",
    "    if \".\" in str(num):\n",
    "        list = str(num).split(\".\")\n",
    "        return list\n",
    "def decimal(list):\n",
    "    number = len(list[0])\n",
    "    # a = list[0]\n",
    "    print(number)\n",
    "    for i in list[0]:\n",
    "        # res += \n",
    "        # print(i)\n",
    "    # for i in range(len(list[0]), 0, -1):\n",
    "    #     res += list[0]*10**i\n",
    "    # print(res)\n",
    "    \n",
    "splitter(857547.304)"
   ]
  },
  {
   "cell_type": "code",
   "execution_count": 10,
   "metadata": {},
   "outputs": [],
   "source": [
    "for i in range(0,10, -1):\n",
    "    print(i)"
   ]
  },
  {
   "cell_type": "code",
   "execution_count": null,
   "metadata": {},
   "outputs": [],
   "source": [
    "def acıkla(n):\n",
    "  sn=str(n)\n",
    "  if \".\" in sn: \n",
    "    t=sn[:sn.index(\".\")]\n",
    "    o=sn[sn.index(\".\")+1:]\n",
    "    yeni= \"+\".join(list(map(str,[int(t[-k])*10**(k-1) for k in range(len(t),0,-1)])))+\"+\"+\"+\".join(list(map(str, [f\"{int(o[-k])}/{10**(k+1)}\" for k in range(0,len(o)-1)])))\n",
    "  else:\n",
    "    yeni= \"+\".join(list(map(str,[int(sn[-k])*10**(k-1) for k in range(len(sn),0,-1)])))\n",
    "  if \"+0\"in yeni:\n",
    "    yeni=yeni.replace(\"+0\",\"\")\n",
    "  return yeni"
   ]
  }
 ]
}