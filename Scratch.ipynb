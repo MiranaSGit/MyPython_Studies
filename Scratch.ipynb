{
 "metadata": {
  "language_info": {
   "codemirror_mode": {
    "name": "ipython",
    "version": 3
   },
   "file_extension": ".py",
   "mimetype": "text/x-python",
   "name": "python",
   "nbconvert_exporter": "python",
   "pygments_lexer": "ipython3",
   "version": "3.8.5"
  },
  "orig_nbformat": 2,
  "kernelspec": {
   "name": "python385jvsc74a57bd0b19acfb47c858a3e6f75be8d3b1e86a4ece7138c7e919bc0d6ec4b14dfa8c7cf",
   "display_name": "Python 3.8.5 64-bit (conda)"
  }
 },
 "nbformat": 4,
 "nbformat_minor": 2,
 "cells": [
  {
   "cell_type": "code",
   "execution_count": 34,
   "metadata": {},
   "outputs": [
    {
     "output_type": "stream",
     "name": "stdout",
     "text": [
      "<class 'filter'>\nEven numbers are : [0, 2, 4, 6, 8]\n"
     ]
    }
   ],
   "source": [
    "first_ten = [0, 1, 2, 3, 4, 5, 6, 7, 8, 9]\n",
    "even = filter(lambda x: x % 2 == 0, first_ten)\n",
    "print(type(even))  # it's 'filter' type,\n",
    "# in order to print the result,\n",
    "# we'd better convert it into the list type\n",
    "\n",
    "print('Even numbers are :', list(even))\n",
    "\n"
   ]
  },
  {
   "source": [
    "<font color=blue> deneme </fon\n",
    "        deneme\n"
   ],
   "cell_type": "markdown",
   "metadata": {}
  },
  {
   "cell_type": "code",
   "execution_count": null,
   "metadata": {},
   "outputs": [],
   "source": []
  }
 ]
}